{
 "cells": [
  {
   "cell_type": "markdown",
   "id": "043d775f-b6f0-44b8-a4bd-a56a81cbfcc8",
   "metadata": {},
   "source": [
    "# Imports"
   ]
  },
  {
   "cell_type": "code",
   "execution_count": 1,
   "id": "ef79115f-1170-4a7e-9e50-7e3d1b6bf1bf",
   "metadata": {},
   "outputs": [],
   "source": [
    "from dotenv import load_dotenv\n",
    "import pandas as pd\n",
    "\n",
    "from importlib import reload"
   ]
  },
  {
   "cell_type": "code",
   "execution_count": 2,
   "id": "d1511bb8-c813-4589-8e90-0f06e68735eb",
   "metadata": {},
   "outputs": [
    {
     "data": {
      "text/plain": [
       "<module 'utils.spotify_funcs' from '/Users/cristianfranco/Documents/personal_projects/spotify_snapshot/utils/spotify_funcs.py'>"
      ]
     },
     "execution_count": 2,
     "metadata": {},
     "output_type": "execute_result"
    }
   ],
   "source": [
    "import utils.spotify_funcs as spotify_funcs\n",
    "reload(spotify_funcs)"
   ]
  },
  {
   "cell_type": "markdown",
   "id": "068dc9c1-3158-434f-bc25-6e1292a84873",
   "metadata": {},
   "source": [
    "# Functions"
   ]
  },
  {
   "cell_type": "code",
   "execution_count": null,
   "id": "3c1509c4-7cef-4ed4-977b-16f18ea49bd0",
   "metadata": {},
   "outputs": [],
   "source": []
  },
  {
   "cell_type": "markdown",
   "id": "038891e6-7ab1-4559-abb7-6aaa18e01227",
   "metadata": {},
   "source": [
    "# Main Code"
   ]
  },
  {
   "cell_type": "code",
   "execution_count": null,
   "id": "c3b651ab-8315-43ad-b9c8-53dbb72a754f",
   "metadata": {},
   "outputs": [],
   "source": []
  },
  {
   "cell_type": "code",
   "execution_count": null,
   "id": "dbe9225d-a930-4c42-be4d-ab0a7566fb81",
   "metadata": {},
   "outputs": [],
   "source": []
  }
 ],
 "metadata": {
  "kernelspec": {
   "display_name": "spotify_venv",
   "language": "python",
   "name": "venv"
  },
  "language_info": {
   "codemirror_mode": {
    "name": "ipython",
    "version": 3
   },
   "file_extension": ".py",
   "mimetype": "text/x-python",
   "name": "python",
   "nbconvert_exporter": "python",
   "pygments_lexer": "ipython3",
   "version": "3.9.2"
  }
 },
 "nbformat": 4,
 "nbformat_minor": 5
}
